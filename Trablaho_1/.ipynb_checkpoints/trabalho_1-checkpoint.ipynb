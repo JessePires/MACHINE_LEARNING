{
 "cells": [
  {
   "cell_type": "markdown",
   "id": "229fedc3-3c29-49c2-ab13-b3d82541c777",
   "metadata": {},
   "source": [
    "# Trabalho 1\n",
    "\n",
    "- **nome:** Jessé P. B. Rocha\n",
    "- **R.A.:** 2149389\n",
    "\n",
    "- **descrição:** o trabalho consiste no desenvolvimento de um modelo para informar quais pessoas tinham mais chance de sobreviver no naufrágio do Titanic de acordo com dados fornecidos no dataset."
   ]
  },
  {
   "cell_type": "code",
   "execution_count": 49,
   "id": "8e0bec53-ec26-4839-8f85-0c9330da37cd",
   "metadata": {},
   "outputs": [],
   "source": [
    "import pandas as pd\n",
    "import numpy as np \n",
    "import imblearn as ibl\n",
    "import seaborn as sns\n",
    "import matplotlib.pyplot as plt\n",
    "from sklearn.neighbors import KNeighborsClassifier\n",
    "from sklearn.preprocessing import StandardScaler, OneHotEncoder, OrdinalEncoder\n",
    "from sklearn.metrics import accuracy_score\n",
    "from sklearn.model_selection import GridSearchCV, train_test_split, StratifiedKFold\n",
    "from sklearn.impute import SimpleImputer\n",
    "from sklearn.compose import ColumnTransformer\n",
    "from sklearn.decomposition import PCA\n",
    "from tqdm.notebook import tqdm\n",
    "from sklearn.svm import SVC\n",
    "import itertools\n",
    "from joblib import Parallel, delayed\n",
    "from sklearn.metrics import f1_score, classification_report\n",
    "from scipy.stats import ttest_ind_from_stats\n",
    "\n",
    "%matplotlib inline"
   ]
  },
  {
   "cell_type": "markdown",
   "id": "653c99a0-f83a-4d95-8ae2-b930c25dfa4a",
   "metadata": {},
   "source": [
    "</br>\n",
    "\n",
    "**Primeiramente**, carregamos a base de dados e a separamos em atributos de entrada e saída. O atributo de saída é o *Survived* que, como o nome sugere, indica quem morreu e quem sobreviveu no naufrágio."
   ]
  },
  {
   "cell_type": "code",
   "execution_count": 50,
   "id": "c3294e33-a3e3-4fdd-b187-686efb050bef",
   "metadata": {},
   "outputs": [
    {
     "data": {
      "text/html": [
       "<div>\n",
       "<style scoped>\n",
       "    .dataframe tbody tr th:only-of-type {\n",
       "        vertical-align: middle;\n",
       "    }\n",
       "\n",
       "    .dataframe tbody tr th {\n",
       "        vertical-align: top;\n",
       "    }\n",
       "\n",
       "    .dataframe thead th {\n",
       "        text-align: right;\n",
       "    }\n",
       "</style>\n",
       "<table border=\"1\" class=\"dataframe\">\n",
       "  <thead>\n",
       "    <tr style=\"text-align: right;\">\n",
       "      <th></th>\n",
       "      <th>PassengerId</th>\n",
       "      <th>Survived</th>\n",
       "      <th>Pclass</th>\n",
       "      <th>Name</th>\n",
       "      <th>Sex</th>\n",
       "      <th>Age</th>\n",
       "      <th>SibSp</th>\n",
       "      <th>Parch</th>\n",
       "      <th>Ticket</th>\n",
       "      <th>Fare</th>\n",
       "      <th>Cabin</th>\n",
       "      <th>Embarked</th>\n",
       "    </tr>\n",
       "  </thead>\n",
       "  <tbody>\n",
       "    <tr>\n",
       "      <th>0</th>\n",
       "      <td>1</td>\n",
       "      <td>0</td>\n",
       "      <td>3</td>\n",
       "      <td>Braund, Mr. Owen Harris</td>\n",
       "      <td>male</td>\n",
       "      <td>22.0</td>\n",
       "      <td>1</td>\n",
       "      <td>0</td>\n",
       "      <td>A/5 21171</td>\n",
       "      <td>7.2500</td>\n",
       "      <td>NaN</td>\n",
       "      <td>S</td>\n",
       "    </tr>\n",
       "    <tr>\n",
       "      <th>1</th>\n",
       "      <td>2</td>\n",
       "      <td>1</td>\n",
       "      <td>1</td>\n",
       "      <td>Cumings, Mrs. John Bradley (Florence Briggs Th...</td>\n",
       "      <td>female</td>\n",
       "      <td>38.0</td>\n",
       "      <td>1</td>\n",
       "      <td>0</td>\n",
       "      <td>PC 17599</td>\n",
       "      <td>71.2833</td>\n",
       "      <td>C85</td>\n",
       "      <td>C</td>\n",
       "    </tr>\n",
       "    <tr>\n",
       "      <th>2</th>\n",
       "      <td>3</td>\n",
       "      <td>1</td>\n",
       "      <td>3</td>\n",
       "      <td>Heikkinen, Miss. Laina</td>\n",
       "      <td>female</td>\n",
       "      <td>26.0</td>\n",
       "      <td>0</td>\n",
       "      <td>0</td>\n",
       "      <td>STON/O2. 3101282</td>\n",
       "      <td>7.9250</td>\n",
       "      <td>NaN</td>\n",
       "      <td>S</td>\n",
       "    </tr>\n",
       "    <tr>\n",
       "      <th>3</th>\n",
       "      <td>4</td>\n",
       "      <td>1</td>\n",
       "      <td>1</td>\n",
       "      <td>Futrelle, Mrs. Jacques Heath (Lily May Peel)</td>\n",
       "      <td>female</td>\n",
       "      <td>35.0</td>\n",
       "      <td>1</td>\n",
       "      <td>0</td>\n",
       "      <td>113803</td>\n",
       "      <td>53.1000</td>\n",
       "      <td>C123</td>\n",
       "      <td>S</td>\n",
       "    </tr>\n",
       "    <tr>\n",
       "      <th>4</th>\n",
       "      <td>5</td>\n",
       "      <td>0</td>\n",
       "      <td>3</td>\n",
       "      <td>Allen, Mr. William Henry</td>\n",
       "      <td>male</td>\n",
       "      <td>35.0</td>\n",
       "      <td>0</td>\n",
       "      <td>0</td>\n",
       "      <td>373450</td>\n",
       "      <td>8.0500</td>\n",
       "      <td>NaN</td>\n",
       "      <td>S</td>\n",
       "    </tr>\n",
       "    <tr>\n",
       "      <th>...</th>\n",
       "      <td>...</td>\n",
       "      <td>...</td>\n",
       "      <td>...</td>\n",
       "      <td>...</td>\n",
       "      <td>...</td>\n",
       "      <td>...</td>\n",
       "      <td>...</td>\n",
       "      <td>...</td>\n",
       "      <td>...</td>\n",
       "      <td>...</td>\n",
       "      <td>...</td>\n",
       "      <td>...</td>\n",
       "    </tr>\n",
       "    <tr>\n",
       "      <th>886</th>\n",
       "      <td>887</td>\n",
       "      <td>0</td>\n",
       "      <td>2</td>\n",
       "      <td>Montvila, Rev. Juozas</td>\n",
       "      <td>male</td>\n",
       "      <td>27.0</td>\n",
       "      <td>0</td>\n",
       "      <td>0</td>\n",
       "      <td>211536</td>\n",
       "      <td>13.0000</td>\n",
       "      <td>NaN</td>\n",
       "      <td>S</td>\n",
       "    </tr>\n",
       "    <tr>\n",
       "      <th>887</th>\n",
       "      <td>888</td>\n",
       "      <td>1</td>\n",
       "      <td>1</td>\n",
       "      <td>Graham, Miss. Margaret Edith</td>\n",
       "      <td>female</td>\n",
       "      <td>19.0</td>\n",
       "      <td>0</td>\n",
       "      <td>0</td>\n",
       "      <td>112053</td>\n",
       "      <td>30.0000</td>\n",
       "      <td>B42</td>\n",
       "      <td>S</td>\n",
       "    </tr>\n",
       "    <tr>\n",
       "      <th>888</th>\n",
       "      <td>889</td>\n",
       "      <td>0</td>\n",
       "      <td>3</td>\n",
       "      <td>Johnston, Miss. Catherine Helen \"Carrie\"</td>\n",
       "      <td>female</td>\n",
       "      <td>NaN</td>\n",
       "      <td>1</td>\n",
       "      <td>2</td>\n",
       "      <td>W./C. 6607</td>\n",
       "      <td>23.4500</td>\n",
       "      <td>NaN</td>\n",
       "      <td>S</td>\n",
       "    </tr>\n",
       "    <tr>\n",
       "      <th>889</th>\n",
       "      <td>890</td>\n",
       "      <td>1</td>\n",
       "      <td>1</td>\n",
       "      <td>Behr, Mr. Karl Howell</td>\n",
       "      <td>male</td>\n",
       "      <td>26.0</td>\n",
       "      <td>0</td>\n",
       "      <td>0</td>\n",
       "      <td>111369</td>\n",
       "      <td>30.0000</td>\n",
       "      <td>C148</td>\n",
       "      <td>C</td>\n",
       "    </tr>\n",
       "    <tr>\n",
       "      <th>890</th>\n",
       "      <td>891</td>\n",
       "      <td>0</td>\n",
       "      <td>3</td>\n",
       "      <td>Dooley, Mr. Patrick</td>\n",
       "      <td>male</td>\n",
       "      <td>32.0</td>\n",
       "      <td>0</td>\n",
       "      <td>0</td>\n",
       "      <td>370376</td>\n",
       "      <td>7.7500</td>\n",
       "      <td>NaN</td>\n",
       "      <td>Q</td>\n",
       "    </tr>\n",
       "  </tbody>\n",
       "</table>\n",
       "<p>891 rows × 12 columns</p>\n",
       "</div>"
      ],
      "text/plain": [
       "     PassengerId  Survived  Pclass  \\\n",
       "0              1         0       3   \n",
       "1              2         1       1   \n",
       "2              3         1       3   \n",
       "3              4         1       1   \n",
       "4              5         0       3   \n",
       "..           ...       ...     ...   \n",
       "886          887         0       2   \n",
       "887          888         1       1   \n",
       "888          889         0       3   \n",
       "889          890         1       1   \n",
       "890          891         0       3   \n",
       "\n",
       "                                                  Name     Sex   Age  SibSp  \\\n",
       "0                              Braund, Mr. Owen Harris    male  22.0      1   \n",
       "1    Cumings, Mrs. John Bradley (Florence Briggs Th...  female  38.0      1   \n",
       "2                               Heikkinen, Miss. Laina  female  26.0      0   \n",
       "3         Futrelle, Mrs. Jacques Heath (Lily May Peel)  female  35.0      1   \n",
       "4                             Allen, Mr. William Henry    male  35.0      0   \n",
       "..                                                 ...     ...   ...    ...   \n",
       "886                              Montvila, Rev. Juozas    male  27.0      0   \n",
       "887                       Graham, Miss. Margaret Edith  female  19.0      0   \n",
       "888           Johnston, Miss. Catherine Helen \"Carrie\"  female   NaN      1   \n",
       "889                              Behr, Mr. Karl Howell    male  26.0      0   \n",
       "890                                Dooley, Mr. Patrick    male  32.0      0   \n",
       "\n",
       "     Parch            Ticket     Fare Cabin Embarked  \n",
       "0        0         A/5 21171   7.2500   NaN        S  \n",
       "1        0          PC 17599  71.2833   C85        C  \n",
       "2        0  STON/O2. 3101282   7.9250   NaN        S  \n",
       "3        0            113803  53.1000  C123        S  \n",
       "4        0            373450   8.0500   NaN        S  \n",
       "..     ...               ...      ...   ...      ...  \n",
       "886      0            211536  13.0000   NaN        S  \n",
       "887      0            112053  30.0000   B42        S  \n",
       "888      2        W./C. 6607  23.4500   NaN        S  \n",
       "889      0            111369  30.0000  C148        C  \n",
       "890      0            370376   7.7500   NaN        Q  \n",
       "\n",
       "[891 rows x 12 columns]"
      ]
     },
     "execution_count": 50,
     "metadata": {},
     "output_type": "execute_result"
    }
   ],
   "source": [
    "df = pd.read_csv(\"train.csv\")\n",
    "y = df[['Survived']].values.ravel()\n",
    "X = df.drop(['Survived', 'PassengerId', 'Name'], axis=1)\n",
    "df"
   ]
  },
  {
   "cell_type": "markdown",
   "id": "0243ea47-01aa-4a4a-a94d-ba1bd63fd3b4",
   "metadata": {},
   "source": [
    "</br>\n",
    "\n",
    "**Perceba** que, além de separar o dataset em dados de entrada e de saída, também foram removidos *PassengerId* e *Name*. Isso foi feito porque esses dados em nada nos acrescentam para a classificação. Saber o nome ou o identificador da pessoa (no dataset) não nos dá nenhuma informação relevante.\n",
    "\n",
    "# Limpeza dos dados\n",
    "\n",
    "Antes de iniciarmos a limpeza, vamos verificar como está nossa base de dados, no que diz respeito a dados faltantes."
   ]
  },
  {
   "cell_type": "code",
   "execution_count": 51,
   "id": "43d48574-4f6d-4f7d-8c75-6de45e2751b2",
   "metadata": {},
   "outputs": [
    {
     "data": {
      "text/plain": [
       "866"
      ]
     },
     "execution_count": 51,
     "metadata": {},
     "output_type": "execute_result"
    }
   ],
   "source": [
    "X.isnull().sum().sum()"
   ]
  },
  {
   "cell_type": "markdown",
   "id": "0c1b854f-6b85-479e-861e-f01b702b7a06",
   "metadata": {},
   "source": [
    "</br>\n",
    "\n",
    "**Perceba** que realmente possuímos dados faltantes. Ainda, dos 891 registros, 866 possuem dados faltantes. Logo, a estratégia de remover tais registros não é uma opção que faça sentido para nosso caso. Nossa segunda opção é realizar imputação de dados. Essa será nossa opção, para que não precisemos descartar os registros.\n",
    "\n",
    "Além disso, utilizaremos a técnica de imputação pelo valor mais frequente de cada atributo. Assim, conseguimos manter o comportamento do dataset antes da imputação (o valor que tinha maior frequência antes da imputação continua tendo maior frequência)."
   ]
  },
  {
   "cell_type": "code",
   "execution_count": 52,
   "id": "b6a65d4c-0422-4ab7-99f9-577061c65033",
   "metadata": {},
   "outputs": [],
   "source": [
    "atributos_numericos = ['Pclass', 'Age', 'SibSp', 'Parch', 'Fare']\n",
    "atributos_str = ['Ticket', 'Cabin', 'Sex', 'Embarked']\n",
    "\n",
    "transformers = [\n",
    "    ('imp_num', SimpleImputer(strategy='most_frequent'), atributos_numericos),\n",
    "    ('imp_str', SimpleImputer(strategy='most_frequent'), atributos_str)\n",
    "]\n",
    "\n",
    "ct_imp = ColumnTransformer(\n",
    "    transformers, remainder='passthrough'\n",
    ")\n",
    "\n",
    "X_imp_vals = ct_imp.fit_transform(X)\n",
    "X_imputed = pd.DataFrame(X_imp_vals, columns=[*atributos_numericos, *atributos_str])"
   ]
  },
  {
   "cell_type": "markdown",
   "id": "e7634bc5-5db0-49d1-9a25-b0bef20ee286",
   "metadata": {},
   "source": [
    "</br>\n",
    "\n",
    "**Vejamos** como ficou nossa base de dados, após a imputação."
   ]
  },
  {
   "cell_type": "code",
   "execution_count": 53,
   "id": "57edb1f4-bfc5-4e8d-882e-e4ae02c3c1d2",
   "metadata": {},
   "outputs": [
    {
     "data": {
      "text/html": [
       "<div>\n",
       "<style scoped>\n",
       "    .dataframe tbody tr th:only-of-type {\n",
       "        vertical-align: middle;\n",
       "    }\n",
       "\n",
       "    .dataframe tbody tr th {\n",
       "        vertical-align: top;\n",
       "    }\n",
       "\n",
       "    .dataframe thead th {\n",
       "        text-align: right;\n",
       "    }\n",
       "</style>\n",
       "<table border=\"1\" class=\"dataframe\">\n",
       "  <thead>\n",
       "    <tr style=\"text-align: right;\">\n",
       "      <th></th>\n",
       "      <th>Pclass</th>\n",
       "      <th>Age</th>\n",
       "      <th>SibSp</th>\n",
       "      <th>Parch</th>\n",
       "      <th>Fare</th>\n",
       "      <th>Ticket</th>\n",
       "      <th>Cabin</th>\n",
       "      <th>Sex</th>\n",
       "      <th>Embarked</th>\n",
       "    </tr>\n",
       "  </thead>\n",
       "  <tbody>\n",
       "    <tr>\n",
       "      <th>0</th>\n",
       "      <td>3.0</td>\n",
       "      <td>22.0</td>\n",
       "      <td>1.0</td>\n",
       "      <td>0.0</td>\n",
       "      <td>7.25</td>\n",
       "      <td>A/5 21171</td>\n",
       "      <td>B96 B98</td>\n",
       "      <td>male</td>\n",
       "      <td>S</td>\n",
       "    </tr>\n",
       "    <tr>\n",
       "      <th>1</th>\n",
       "      <td>1.0</td>\n",
       "      <td>38.0</td>\n",
       "      <td>1.0</td>\n",
       "      <td>0.0</td>\n",
       "      <td>71.2833</td>\n",
       "      <td>PC 17599</td>\n",
       "      <td>C85</td>\n",
       "      <td>female</td>\n",
       "      <td>C</td>\n",
       "    </tr>\n",
       "    <tr>\n",
       "      <th>2</th>\n",
       "      <td>3.0</td>\n",
       "      <td>26.0</td>\n",
       "      <td>0.0</td>\n",
       "      <td>0.0</td>\n",
       "      <td>7.925</td>\n",
       "      <td>STON/O2. 3101282</td>\n",
       "      <td>B96 B98</td>\n",
       "      <td>female</td>\n",
       "      <td>S</td>\n",
       "    </tr>\n",
       "    <tr>\n",
       "      <th>3</th>\n",
       "      <td>1.0</td>\n",
       "      <td>35.0</td>\n",
       "      <td>1.0</td>\n",
       "      <td>0.0</td>\n",
       "      <td>53.1</td>\n",
       "      <td>113803</td>\n",
       "      <td>C123</td>\n",
       "      <td>female</td>\n",
       "      <td>S</td>\n",
       "    </tr>\n",
       "    <tr>\n",
       "      <th>4</th>\n",
       "      <td>3.0</td>\n",
       "      <td>35.0</td>\n",
       "      <td>0.0</td>\n",
       "      <td>0.0</td>\n",
       "      <td>8.05</td>\n",
       "      <td>373450</td>\n",
       "      <td>B96 B98</td>\n",
       "      <td>male</td>\n",
       "      <td>S</td>\n",
       "    </tr>\n",
       "    <tr>\n",
       "      <th>...</th>\n",
       "      <td>...</td>\n",
       "      <td>...</td>\n",
       "      <td>...</td>\n",
       "      <td>...</td>\n",
       "      <td>...</td>\n",
       "      <td>...</td>\n",
       "      <td>...</td>\n",
       "      <td>...</td>\n",
       "      <td>...</td>\n",
       "    </tr>\n",
       "    <tr>\n",
       "      <th>886</th>\n",
       "      <td>2.0</td>\n",
       "      <td>27.0</td>\n",
       "      <td>0.0</td>\n",
       "      <td>0.0</td>\n",
       "      <td>13.0</td>\n",
       "      <td>211536</td>\n",
       "      <td>B96 B98</td>\n",
       "      <td>male</td>\n",
       "      <td>S</td>\n",
       "    </tr>\n",
       "    <tr>\n",
       "      <th>887</th>\n",
       "      <td>1.0</td>\n",
       "      <td>19.0</td>\n",
       "      <td>0.0</td>\n",
       "      <td>0.0</td>\n",
       "      <td>30.0</td>\n",
       "      <td>112053</td>\n",
       "      <td>B42</td>\n",
       "      <td>female</td>\n",
       "      <td>S</td>\n",
       "    </tr>\n",
       "    <tr>\n",
       "      <th>888</th>\n",
       "      <td>3.0</td>\n",
       "      <td>24.0</td>\n",
       "      <td>1.0</td>\n",
       "      <td>2.0</td>\n",
       "      <td>23.45</td>\n",
       "      <td>W./C. 6607</td>\n",
       "      <td>B96 B98</td>\n",
       "      <td>female</td>\n",
       "      <td>S</td>\n",
       "    </tr>\n",
       "    <tr>\n",
       "      <th>889</th>\n",
       "      <td>1.0</td>\n",
       "      <td>26.0</td>\n",
       "      <td>0.0</td>\n",
       "      <td>0.0</td>\n",
       "      <td>30.0</td>\n",
       "      <td>111369</td>\n",
       "      <td>C148</td>\n",
       "      <td>male</td>\n",
       "      <td>C</td>\n",
       "    </tr>\n",
       "    <tr>\n",
       "      <th>890</th>\n",
       "      <td>3.0</td>\n",
       "      <td>32.0</td>\n",
       "      <td>0.0</td>\n",
       "      <td>0.0</td>\n",
       "      <td>7.75</td>\n",
       "      <td>370376</td>\n",
       "      <td>B96 B98</td>\n",
       "      <td>male</td>\n",
       "      <td>Q</td>\n",
       "    </tr>\n",
       "  </tbody>\n",
       "</table>\n",
       "<p>891 rows × 9 columns</p>\n",
       "</div>"
      ],
      "text/plain": [
       "    Pclass   Age SibSp Parch     Fare            Ticket    Cabin     Sex  \\\n",
       "0      3.0  22.0   1.0   0.0     7.25         A/5 21171  B96 B98    male   \n",
       "1      1.0  38.0   1.0   0.0  71.2833          PC 17599      C85  female   \n",
       "2      3.0  26.0   0.0   0.0    7.925  STON/O2. 3101282  B96 B98  female   \n",
       "3      1.0  35.0   1.0   0.0     53.1            113803     C123  female   \n",
       "4      3.0  35.0   0.0   0.0     8.05            373450  B96 B98    male   \n",
       "..     ...   ...   ...   ...      ...               ...      ...     ...   \n",
       "886    2.0  27.0   0.0   0.0     13.0            211536  B96 B98    male   \n",
       "887    1.0  19.0   0.0   0.0     30.0            112053      B42  female   \n",
       "888    3.0  24.0   1.0   2.0    23.45        W./C. 6607  B96 B98  female   \n",
       "889    1.0  26.0   0.0   0.0     30.0            111369     C148    male   \n",
       "890    3.0  32.0   0.0   0.0     7.75            370376  B96 B98    male   \n",
       "\n",
       "    Embarked  \n",
       "0          S  \n",
       "1          C  \n",
       "2          S  \n",
       "3          S  \n",
       "4          S  \n",
       "..       ...  \n",
       "886        S  \n",
       "887        S  \n",
       "888        S  \n",
       "889        C  \n",
       "890        Q  \n",
       "\n",
       "[891 rows x 9 columns]"
      ]
     },
     "execution_count": 53,
     "metadata": {},
     "output_type": "execute_result"
    }
   ],
   "source": [
    "X_imputed"
   ]
  },
  {
   "cell_type": "markdown",
   "id": "a0a06df2-95e2-4d8b-8211-861c6e2bd437",
   "metadata": {},
   "source": [
    "</br>\n",
    "\n",
    "**Por** garantia, vamos mais uma vez verificar se existem dados faltantes."
   ]
  },
  {
   "cell_type": "code",
   "execution_count": 54,
   "id": "c3031190-b3c7-4846-a20d-6a503e94f0e2",
   "metadata": {},
   "outputs": [
    {
     "data": {
      "text/plain": [
       "0"
      ]
     },
     "execution_count": 54,
     "metadata": {},
     "output_type": "execute_result"
    }
   ],
   "source": [
    "X_imputed.isnull().sum().sum()"
   ]
  },
  {
   "cell_type": "markdown",
   "id": "beb0cb0e-4dfa-4840-8f01-f0bd65fccdfb",
   "metadata": {},
   "source": [
    "</br>\n",
    "\n",
    "**Como** pode-se ver, não há nenhum registro com dados faltantes. Logo, podemos seguir em frente."
   ]
  },
  {
   "cell_type": "markdown",
   "id": "5629d56c-abf1-413e-af00-0169961eae20",
   "metadata": {},
   "source": [
    "# Conversão dos dados categóricos\n",
    "\n",
    "Agora vamos realizar a conversão dos dados categóricos em numéricos. Perceba que *Sex, Embarked, Ticket e Cabin* são atributos categóricos nominais. Eles, portanto, serão codificados usando o *One-Hot Endcoder*. Já o atributo *Pclass* é um categórico ordinal. Isso em razão da relação de ordem existente nele, no que diz respeito ao poder aquisitivo. Os da primeira classe são os mais afortunados e os da terceira, os menos. Assim sendo, sua codificação será feita usando o *Ordinal Encoder*."
   ]
  },
  {
   "cell_type": "code",
   "execution_count": 55,
   "id": "066b886e-d70c-4f45-9dae-6f709c910900",
   "metadata": {},
   "outputs": [],
   "source": [
    "transformers = [\n",
    "    ('od_class', OrdinalEncoder(), ['Pclass']),\n",
    "    ('oh_sex', OneHotEncoder(), ['Sex']),\n",
    "    ('oh_embarked', OneHotEncoder(), ['Embarked']),\n",
    "    ('oh_ticket', OneHotEncoder(), ['Ticket']),\n",
    "    ('oh_cabin', OneHotEncoder(), ['Cabin']),\n",
    "]\n",
    "\n",
    "ct_oh = ColumnTransformer(\n",
    "    transformers, remainder='passthrough'\n",
    ")\n",
    "\n",
    "X_oh = ct_oh.fit_transform(X_imputed).todense()"
   ]
  },
  {
   "cell_type": "markdown",
   "id": "96d01d43-c4d6-49ec-a062-abf54b1b36fc",
   "metadata": {},
   "source": [
    "</br>\n",
    "\n",
    "**Feito** isso, podemos ver o resultado da codificação."
   ]
  },
  {
   "cell_type": "code",
   "execution_count": 56,
   "id": "ccd05d42-e8bf-4a06-8946-59848a18ea8a",
   "metadata": {},
   "outputs": [
    {
     "data": {
      "text/plain": [
       "matrix([[ 2.    ,  0.    ,  1.    , ...,  1.    ,  0.    ,  7.25  ],\n",
       "        [ 0.    ,  1.    ,  0.    , ...,  1.    ,  0.    , 71.2833],\n",
       "        [ 2.    ,  1.    ,  0.    , ...,  0.    ,  0.    ,  7.925 ],\n",
       "        ...,\n",
       "        [ 2.    ,  1.    ,  0.    , ...,  1.    ,  2.    , 23.45  ],\n",
       "        [ 0.    ,  0.    ,  1.    , ...,  0.    ,  0.    , 30.    ],\n",
       "        [ 2.    ,  0.    ,  1.    , ...,  0.    ,  0.    ,  7.75  ]])"
      ]
     },
     "execution_count": 56,
     "metadata": {},
     "output_type": "execute_result"
    }
   ],
   "source": [
    "X_oh"
   ]
  },
  {
   "cell_type": "markdown",
   "id": "341bde48-032b-44e9-8a27-1895582b5c35",
   "metadata": {},
   "source": [
    "# Exploração\n",
    "\n",
    "Agora, vamos explorar um pouco nossa base de dados para conhecê-la melhor.\n",
    "\n",
    "## Scatter Plot"
   ]
  },
  {
   "cell_type": "code",
   "execution_count": 57,
   "id": "43bcaa73-a672-433f-8eac-c73b4d29a7c5",
   "metadata": {},
   "outputs": [
    {
     "name": "stderr",
     "output_type": "stream",
     "text": [
      "/home/jessepbr/anaconda3/lib/python3.8/site-packages/sklearn/utils/validation.py:585: FutureWarning: np.matrix usage is deprecated in 1.0 and will raise a TypeError in 1.2. Please convert to a numpy array with np.asarray. For more information see: https://numpy.org/doc/stable/reference/generated/numpy.matrix.html\n",
      "  warnings.warn(\n",
      "/home/jessepbr/anaconda3/lib/python3.8/site-packages/sklearn/utils/validation.py:585: FutureWarning: np.matrix usage is deprecated in 1.0 and will raise a TypeError in 1.2. Please convert to a numpy array with np.asarray. For more information see: https://numpy.org/doc/stable/reference/generated/numpy.matrix.html\n",
      "  warnings.warn(\n"
     ]
    },
    {
     "data": {
      "image/png": "[encoded data removed]",
      "text/plain": [
       "<Figure size 1440x864 with 6 Axes>"
      ]
     },
     "metadata": {
      "needs_background": "light"
     },
     "output_type": "display_data"
    }
   ],
   "source": [
    "ss = StandardScaler()\n",
    "ss.fit(X_oh)\n",
    "X_ss = ss.transform(X_oh)\n",
    "\n",
    "fig, axes = plt.subplots(nrows=3, ncols=2, figsize=(20, 12))\n",
    "sns.histplot(data=X_imputed, bins=10, x=\"Pclass\", hue=y, multiple=\"dodge\", shrink=1, ax=axes[0][0], palette=\"hsv\")\n",
    "sns.histplot(data=X_imputed, bins=10, x=\"Sex\", hue=y, multiple=\"dodge\", shrink=0.8, ax=axes[0][1], palette=\"hsv\")\n",
    "sns.histplot(data=X_imputed, bins=10, x=\"SibSp\", hue=y, multiple=\"dodge\", shrink=1, ax=axes[1][0], palette=\"hsv\")\n",
    "sns.histplot(data=X_imputed, bins=10, x=\"Parch\", hue=y, multiple=\"dodge\", shrink=0.8, ax=axes[1][1], palette=\"hsv\")\n",
    "sns.histplot(data=X_imputed, bins=10, x=\"Fare\", hue=y, multiple=\"dodge\", shrink=0.8, ax=axes[2][0], palette=\"hsv\")\n",
    "sns.histplot(data=X_imputed, bins=10, x=\"Embarked\", hue=y, multiple=\"dodge\", shrink=0.8, ax=axes[2][1], palette=\"hsv\")\n",
    "\n",
    "plt.show()"
   ]
  },
  {
   "cell_type": "markdown",
   "id": "21a5c5bf-3e96-4a0a-9777-734c538f1585",
   "metadata": {},
   "source": [
    "</br>\n",
    "\n",
    "**Do** que temos até o momento, podemos dizer que, no que diz respeito à classe, as pessoas da terceira classe foram as que menos sobreviveram, mulheres sobreviveram mais do que crianças, as pessoas que viajaram sozinhas também foram as que mais sobreviveram. Os que pagaram mais caro no bilhete de embarque também compõem o número dos que sobreviveram. Note que, conforme o valor do bilhete aumenta, o número de sobreviventes começa a superar o número de mortos. Aparentemente, os atributos que dizem respeito ao poder aquisitivo do indivíduo, seu sexo e quantidade de familiares à bordo nos dão as melhores respostas."
   ]
  },
  {
   "cell_type": "code",
   "execution_count": null,
   "id": "c55bdf95-bc90-454b-9d7e-c5d9b89de511",
   "metadata": {},
   "outputs": [],
   "source": [
    "df_pair_plot = df.drop(['Name', 'PassengerId', 'Ticket', 'Cabin', 'Sex', 'Embarked'], axis=1)\n",
    "sns.pairplot(df_pair_plot,\n",
    "             hue=\"Survived\",\n",
    "             palette=\"hsv\",\n",
    "             diag_kind=\"hist\")"
   ]
  },
  {
   "cell_type": "markdown",
   "id": "f6067bc2-51a9-48b6-b3e1-574a0d774fe0",
   "metadata": {},
   "source": [
    "</br>\n",
    "\n",
    "**Perceba** que as combinações de atributos com *Pclass* estão com os dados consideravelmente bem separados. A maioria das mortes é de passageiros da segunda e terceira classe. Perceba também que, em qualquer combinação que envolva *Fare*, as mortes diminuem conforme o preço do bilhete aumenta. As combinações com *SibSp* também comprovam o que já havia sido comentado na etapa anterior da exploração. Quanto maior for *SibSp*, menor as chances de sobreviver. Percebe-se, portanto, que a combinação de atributos que dizem respeito da condição financeira e da família do indivíduo fornecem bons resultados."
   ]
  },
  {
   "cell_type": "markdown",
   "id": "ac936bce-4dc5-4a79-9270-793ebab20a19",
   "metadata": {},
   "source": [
    "# Classificadores\n",
    "\n",
    "Agora vamos aplicar dois classificadores, o *KNN* e o *SVM*. Para os dois classificadores, aplicaremos a técnica de validação cruzada dupla.\n",
    "\n",
    "## KNN"
   ]
  },
  {
   "cell_type": "code",
   "execution_count": null,
   "id": "889ae61c-ff92-4eeb-b7af-b26424fe9f58",
   "metadata": {},
   "outputs": [],
   "source": [
    "def executa_cvd_knn(X, y, cv_splits, ks, n_jobs=8, range_option=range(1, 30, 2)):    \n",
    "    skf = StratifiedKFold(n_splits=cv_splits, shuffle=True, random_state=1)\n",
    "    f1s_knn = []\n",
    "    class_report_knn = []\n",
    "    folds_knn = 0\n",
    "    melhor_comb_knn = {}\n",
    "\n",
    "    pgb = tqdm(total=cv_splits, desc='Folds avaliados')\n",
    "    \n",
    "    for idx_treino, idx_teste in skf.split(X, y):\n",
    "        X_treino = X[idx_treino]\n",
    "        y_treino = y[idx_treino]\n",
    "\n",
    "        X_teste = X[idx_teste]\n",
    "        y_teste = y[idx_teste]\n",
    "\n",
    "        X_treino, X_val, y_treino, y_val = train_test_split(\n",
    "            X_treino,\n",
    "            y_treino,\n",
    "            stratify=y_treino,\n",
    "            test_size=0.2,\n",
    "            random_state=1\n",
    "        )\n",
    "\n",
    "        ss = StandardScaler()\n",
    "        ss.fit(X_treino)\n",
    "        X_treino = ss.transform(X_treino)\n",
    "        X_teste = ss.transform(X_teste)\n",
    "        X_val = ss.transform(X_val)\n",
    "\n",
    "        combinacoes = {'n_neighbors': range_option}\n",
    "        score = 'f1' if len(set(y_treino)) < 3 else 'f1_weighted'\n",
    "\n",
    "        knn = KNeighborsClassifier()\n",
    "        knn = GridSearchCV(knn, combinacoes, cv=StratifiedKFold(n_splits=cv_splits), n_jobs=n_jobs, scoring=score)\n",
    "        knn.fit(np.vstack((X_treino, X_val)), [*y_treino, *y_val])\n",
    "        pred = knn.predict(X_teste)\n",
    "        melhor_comb_knn[knn.best_score_] = knn.best_params_\n",
    "\n",
    "        if len(set(y_treino)) > 2:\n",
    "            f1 = f1_score(y_teste, pred, average='weighted')\n",
    "        else:\n",
    "            f1 = f1_score(y_teste, pred)\n",
    "        f1s_knn.append(f1)\n",
    "        class_report_knn.append(classification_report(y_teste, pred))\n",
    "        folds_knn += 1\n",
    "        \n",
    "        pgb.update(1)\n",
    "    pgb.close()\n",
    "    \n",
    "    return f1s_knn, class_report_knn, folds_knn, knn, melhor_comb_knn"
   ]
  },
  {
   "cell_type": "markdown",
   "id": "65a49db0-30c7-4085-b99c-06c3b088af30",
   "metadata": {},
   "source": [
    "## SVM\n",
    "\n",
    "Faremos o mesmo processo feito para o *KNN* para realizar a validação cruzada em dois níveis."
   ]
  },
  {
   "cell_type": "code",
   "execution_count": null,
   "id": "72359d93-8a20-4bbb-871d-2a3089deaf42",
   "metadata": {},
   "outputs": [],
   "source": [
    "def executa_cvd_svm(X, y, cv_splits, params, n_jobs=8):\n",
    "    skf = StratifiedKFold(n_splits=cv_splits, shuffle=True, random_state=1)\n",
    "    f1s_svm = []\n",
    "    class_report_svm = []\n",
    "    folds_svm = 0\n",
    "    melhor_comb_svm = {}\n",
    "    \n",
    "    pgb = tqdm(total=cv_splits, desc='Folds avaliados')\n",
    "    \n",
    "    for idx_treino, idx_teste in skf.split(X, y):\n",
    "        X_treino = X[idx_treino]\n",
    "        y_treino = y[idx_treino]\n",
    "        \n",
    "        X_teste = X[idx_teste]\n",
    "        y_teste = y[idx_teste]\n",
    "        \n",
    "        X_treino, X_val, y_treino, y_val = train_test_split(\n",
    "            X_treino,\n",
    "            y_treino,\n",
    "            stratify=y_treino,\n",
    "            test_size=0.2,\n",
    "            random_state=1\n",
    "        )\n",
    "        \n",
    "        ss = StandardScaler()\n",
    "        ss.fit(X_treino)\n",
    "        X_treino = ss.transform(X_treino)\n",
    "        X_teste = ss.transform(X_teste)\n",
    "        X_val = ss.transform(X_val)\n",
    "        \n",
    "        score = 'f1' if len(set(y_treino)) < 3 else 'f1_weighted'\n",
    "        svm = GridSearchCV(SVC(), param_grid=params, cv=StratifiedKFold(n_splits=cv_splits), n_jobs=n_jobs, scoring=score)\n",
    "        svm.fit(np.vstack((X_treino, X_val)), [*y_treino, *y_val])\n",
    "        pred = svm.predict(X_teste)\n",
    "        melhor_comb_svm[svm.best_score_] = svm.best_params_\n",
    "        \n",
    "        if len(set(y_treino)) > 2:\n",
    "            f1 = f1_score(y_teste, pred, average='weighted')\n",
    "        else:\n",
    "            f1 = f1_score(y_teste, pred)\n",
    "        f1s_svm.append(f1)\n",
    "        class_report_svm.append(classification_report(y_teste, pred))\n",
    "        folds_svm += 1\n",
    "        \n",
    "        pgb.update(1)\n",
    "    pgb.close()\n",
    "    \n",
    "    return f1s_svm, class_report_svm, folds_svm, svm, melhor_comb_svm"
   ]
  },
  {
   "cell_type": "markdown",
   "id": "98cae90e-ea7c-4d73-9161-abf09eb0db77",
   "metadata": {},
   "source": [
    "# Seleção do melhor modelo\n",
    "\n",
    "O que faremos agora é selecionar o melhor modelo, gerado pelas funções implementadas acima (que serão executadas abaixo), com base em análise estatística. Utilizaremos para tanto, o Teste de Hipótese Nula pelo *Teste t de Student*."
   ]
  },
  {
   "cell_type": "code",
   "execution_count": null,
   "id": "259af0a6-750d-4634-9d2f-f6596a6a1e20",
   "metadata": {},
   "outputs": [],
   "source": [
    "f1s_knn, class_report_knn, folds_knn, knn, melhor_comb_knn = executa_cvd_knn(X_oh, y, 10, range(1, 30, 2))"
   ]
  },
  {
   "cell_type": "code",
   "execution_count": null,
   "id": "70d98571-9611-4471-b3c1-f79b78f2f2b8",
   "metadata": {},
   "outputs": [],
   "source": [
    "f1s_svm, class_report_svm, folds_svm, svm, melhor_comb_svm = executa_cvd_svm(X_oh,\n",
    "                                                            y,\n",
    "                                                            10,\n",
    "                                                            params={'C' : [1, 10, 100, 1000], 'gamma' : ['auto', 'scale', 2e-2, 2e-3, 2e-4], 'kernel': ['rbf']})"
   ]
  },
  {
   "cell_type": "code",
   "execution_count": null,
   "id": "4846699c-586f-44ef-ac34-d3468b3e6690",
   "metadata": {},
   "outputs": [],
   "source": [
    "def calcular_estatisticas(resultados):\n",
    "    return np.mean(resultados), np.std(resultados), np.min(resultados), np.max(resultados)\n",
    "\n",
    "def imprimir_estatisticas(resultados):\n",
    "    media, desvio, mini, maxi = calcular_estatisticas(resultados)\n",
    "    print(\"Resultados: %.2f +- %.2f, min: %.2f, max: %.2f\" % (media, desvio, mini, maxi))"
   ]
  },
  {
   "cell_type": "markdown",
   "id": "0b6d2bfd-a9cc-4233-a4cf-478dc0d76db5",
   "metadata": {},
   "source": [
    "</br>\n",
    "\n",
    "**Antes**, vamos conferir as estatíticas de cada um dos classificadores. Lembre-se que estamos utilzando *f1 score* como a métrica de classificação. Portanto serão exibidos o menor *f1 score*, bem como o maior, a média e o desvio padrão."
   ]
  },
  {
   "cell_type": "code",
   "execution_count": null,
   "id": "15da52cd-1821-4735-9338-a1eb0a47fb4f",
   "metadata": {},
   "outputs": [],
   "source": [
    "imprimir_estatisticas(f1s_knn)\n",
    "imprimir_estatisticas(f1s_svm)"
   ]
  },
  {
   "cell_type": "markdown",
   "id": "3da30586-594c-4f0a-abd1-75baf60f94ec",
   "metadata": {},
   "source": [
    "</br>\n",
    "\n",
    "**Agora** vamos utilizar o *Teste t de Student* para ver qual dos modelos possui o melhor resultado, se são os modelos gerados com o *KNN* ou com o *SVM*. Para isso, vamos implementar uma função que realiza tal teste."
   ]
  },
  {
   "cell_type": "code",
   "execution_count": null,
   "id": "520744e1-e9a4-47b9-8733-82bb7ae9c7d6",
   "metadata": {},
   "outputs": [],
   "source": [
    "def rejeitar_hipotese_nula(amostra1, amostra2, alpha=0.05):\n",
    "    media_amostral1, desvio_padrao_amostral1, _, _ = calcular_estatisticas(amostra1)\n",
    "    media_amostral2, desvio_padrao_amostral2, _, _ = calcular_estatisticas(amostra2)\n",
    "    \n",
    "    statistic, pvalor = ttest_ind_from_stats(media_amostral1, desvio_padrao_amostral1, len(amostra1), media_amostral2, desvio_padrao_amostral2, len(amostra2))\n",
    "    resultado = pvalor <= alpha\n",
    "    return statistic, resultado, pvalor"
   ]
  },
  {
   "cell_type": "code",
   "execution_count": null,
   "id": "1376526d-c7a6-43a8-bdac-9b923cf99d00",
   "metadata": {},
   "outputs": [],
   "source": [
    "def seleciona_melhor_modelo(amostra_1, amostra_2, alpha=0.05):\n",
    "    statistic, resultado, pvalor = rejeitar_hipotese_nula(amostra_1, amostra_2)\n",
    "    \n",
    "    if resultado == True:\n",
    "        if statistic > 0:\n",
    "            return \"amostra 1\"\n",
    "        else:\n",
    "            return \"amostra 2\"\n",
    "    else:\n",
    "        return \"Não há diferença estatisticamente significativa\""
   ]
  },
  {
   "cell_type": "code",
   "execution_count": null,
   "id": "624a9a86-d97d-4300-85ae-53c9e420fc50",
   "metadata": {},
   "outputs": [],
   "source": [
    "melhor_modelo = seleciona_melhor_modelo(f1s_knn, f1s_svm)\n",
    "melhor_modelo"
   ]
  },
  {
   "cell_type": "markdown",
   "id": "5f177ce6-2458-44ca-a4f9-bc5b1d72874a",
   "metadata": {},
   "source": [
    "</br>\n",
    "\n",
    "**Perceba** que os dois modelos possuem um diferença estatisticamente significativa. Perceba também que o a amostra 2 é o melhor modelo. Na amostra 2, temos os *f1 scores* do *SVM*. Logo, o modelo que utiliza o classificador *SVM* é o melhor dos dois modelos.\n",
    "\n",
    "# Resultados da classificação\n",
    "\n",
    "Vejamos agora, as métricas de classificação para cada um dos modelos. Veremos as métricas por classe e do classificador como um todo."
   ]
  },
  {
   "cell_type": "code",
   "execution_count": null,
   "id": "94a96e9a-7123-423e-b59b-4f2b690e301e",
   "metadata": {},
   "outputs": [],
   "source": [
    "def metricas_por_fold(class_report, qtd_folds):\n",
    "    for i in range(qtd_folds):\n",
    "        print(\"============================fold %d:============================\" % (i+1))\n",
    "        print(class_report[i], \"\\n\")"
   ]
  },
  {
   "cell_type": "markdown",
   "id": "5f4a9c59-31ef-4d5e-b968-2068e5af59fc",
   "metadata": {},
   "source": [
    "## Métricas de classificação de cada fold do KNN"
   ]
  },
  {
   "cell_type": "code",
   "execution_count": null,
   "id": "775be975-4f8b-4e1d-86eb-bfc7ae367fc0",
   "metadata": {},
   "outputs": [],
   "source": [
    "metricas_por_fold(class_report_knn, folds_knn)"
   ]
  },
  {
   "cell_type": "markdown",
   "id": "182a28e7-8c3c-4bc0-96ba-684dbc3c7723",
   "metadata": {},
   "source": [
    "## Métricas de classificação de cada fold do SVM"
   ]
  },
  {
   "cell_type": "code",
   "execution_count": null,
   "id": "918eed75-888b-4e1a-b4f0-a046f71dcde6",
   "metadata": {},
   "outputs": [],
   "source": [
    "metricas_por_fold(class_report_svm, folds_svm)"
   ]
  },
  {
   "cell_type": "markdown",
   "id": "4b4504d0-a46a-4b0f-a068-2cecb1931f13",
   "metadata": {},
   "source": [
    "**Disso** tudo, uma coisa que se poode concluir, é que o classificador *SVM* possui um melhor desempenho na classificação para os dados informados, conseguindo  acertar mais quem provavelmente ficou sobreviveu ou não ao naufrágio do Titanic."
   ]
  }
 ],
 "metadata": {
  "kernelspec": {
   "display_name": "Python 3 (ipykernel)",
   "language": "python",
   "name": "python3"
  },
  "language_info": {
   "codemirror_mode": {
    "name": "ipython",
    "version": 3
   },
   "file_extension": ".py",
   "mimetype": "text/x-python",
   "name": "python",
   "nbconvert_exporter": "python",
   "pygments_lexer": "ipython3",
   "version": "3.8.12"
  }
 },
 "nbformat": 4,
 "nbformat_minor": 5
}
